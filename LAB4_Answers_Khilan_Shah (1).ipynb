{
 "cells": [
  {
   "cell_type": "markdown",
   "id": "3b9c8fd1",
   "metadata": {},
   "source": [
    "\n",
    "## 1 Characters and Strings\n",
    "\n",
    "The following Python program stores the string below into a variable called stringData.  Then, it \n",
    "acquires the user to input a substring to display it on the screen along with its length."
   ]
  },
  {
   "cell_type": "code",
   "execution_count": null,
   "id": "26cb0f45",
   "metadata": {},
   "outputs": [],
   "source": [
    "stringData=\"String literals are written in a variety of ways\"\n",
    "iSubstring = str(input(\"Enter the sibstring you would like to process: \"))\n",
    "iLength=len(iSubstring)\n",
    "print(\"The length of substring '\"+iSubstring+ \"'is:\",iLength)"
   ]
  },
  {
   "cell_type": "markdown",
   "id": "bfbb5a2b",
   "metadata": {},
   "source": [
    "Modify the program to perform the following tasks, independently.\n",
    "\n",
    "a.  Check whether the entered substring is part of the original string.  If the substring exists in \n",
    "the original string, display the length of the substring; otherwise, display an error message"
   ]
  },
  {
   "cell_type": "code",
   "execution_count": null,
   "id": "6ea21a13",
   "metadata": {},
   "outputs": [],
   "source": [
    "stringData=\"String literals are written in a variety of ways\"\n",
    "iSubstring = str(input(\"Enter the sibstring you would like to process: \"))\n",
    "\n",
    "\n",
    "if iSubstring in stringData:\n",
    "    iLength=len(iSubstring)\n",
    "    print(\"The length of substring '\"+iSubstring+ \"'is:\",iLength)\n",
    "else:\n",
    "    print(\"Please enter substring that is a part of original string data\")\n",
    "    "
   ]
  },
  {
   "cell_type": "markdown",
   "id": "ac2c6fc5",
   "metadata": {},
   "source": [
    "b.  Find and display the character at the middle position of the original string."
   ]
  },
  {
   "cell_type": "code",
   "execution_count": null,
   "id": "9adbf99a",
   "metadata": {},
   "outputs": [],
   "source": [
    "midchar=stringData[int(len(stringData)/2)]\n",
    "midchar"
   ]
  },
  {
   "cell_type": "markdown",
   "id": "b38f406d",
   "metadata": {},
   "source": [
    "c.  Replace a particular substring in the original string by another word that is given by the user. \n",
    "Verify your answer by replacing the substring ‘are written’ with ‘can be presented’. \n",
    "Hint:  Use the replace() built-in method."
   ]
  },
  {
   "cell_type": "code",
   "execution_count": null,
   "id": "0c0bbf5d",
   "metadata": {},
   "outputs": [],
   "source": [
    "newstring=str(input(\"enter new data to substring: \"))\n",
    "stringreplace=str(input(\"enter string you like to replace: \"))\n",
    "modifiedstring=stringData.replace(stringreplace,newstring)\n",
    "\n",
    "print(\"here is the new string '\" +modifiedstring+\"'\")\n"
   ]
  },
  {
   "cell_type": "markdown",
   "id": "b02b0467",
   "metadata": {},
   "source": [
    "d.  Return the starting and ending positions of the entered substring. \n",
    "Hint:  Use the find() built-in method and the len() function."
   ]
  },
  {
   "cell_type": "code",
   "execution_count": null,
   "id": "7c2c055f",
   "metadata": {},
   "outputs": [],
   "source": [
    "stringData  =  \"String literals are written in a variety of ways.\" \n",
    "iSubstring  =  str(input(\"Enter  the  substring  you  like  to  process:\")) \n",
    "startingIndex  =  stringData.find(iSubstring) \n",
    "endingIndex  =  startingIndex  +  len(iSubstring)\n",
    "startingIndex\n",
    "endingIndex\n",
    "print(\"The  substring  '\"+  iSubstring+  \"'  starts  at  position:\",  startingIndex,  \"and  ends  at:\",  endingIndex)"
   ]
  },
  {
   "cell_type": "markdown",
   "id": "b8575206",
   "metadata": {},
   "source": [
    "e.  Truncate the period at the end of the original string."
   ]
  },
  {
   "cell_type": "code",
   "execution_count": null,
   "id": "0d421c94",
   "metadata": {},
   "outputs": [],
   "source": [
    "stringData  =  \"String  literals  are  written  in  a  variety  of  ways.\" \n",
    "newString  =  stringData.replace(\".\",\"\"  ) \n",
    "print(newString)"
   ]
  },
  {
   "cell_type": "markdown",
   "id": "47e0565d",
   "metadata": {},
   "source": [
    "f.  Add the following substring to the end of the original string after removing the period: \n",
    "“:  Single, Double, and Triple quotes.” \n",
    "Hint:  Consider using the + operator to join one string with another."
   ]
  },
  {
   "cell_type": "code",
   "execution_count": null,
   "id": "cb71c7e4",
   "metadata": {},
   "outputs": [],
   "source": [
    "stringData  =  \"String  literals  are  written  in  a  variety  of  ways.\" \n",
    "newString  =  stringData.replace(\".\",\"\"  )+  str(\":  Single,  Double,  and  Triple  quotes.\") \n",
    "print(newString)"
   ]
  },
  {
   "cell_type": "markdown",
   "id": "82b2fd2f",
   "metadata": {},
   "source": [
    "## 2 Text Files\n",
    "\n",
    "The following Python program is opening a text-based file called tedTitles.txt, which includes \n",
    "some of the titles of the most popular talks on the ted.com website. \n",
    "(https://www.ted.com/playlists/171/the_most_popular_talks_of_all)"
   ]
  },
  {
   "cell_type": "code",
   "execution_count": null,
   "id": "2efe9f59",
   "metadata": {},
   "outputs": [],
   "source": [
    "textFile  =  open(\"tedTitles.txt\",  \"w\") #Opening  a  file  for  writing \n",
    "textFile.write(\"Do  schools  kill  creativity?\"\"\\n\"\n",
    "\"Your  body  language  may  shape  who  you  are\"\"\\n\"\n",
    "\"How  great  leaders  inspire  action\"\"\\n\"\n",
    "\"The  power  of  vulnerability\"\"\\n\"\n",
    "\"10  things  you  didn't  know  about  orgasm\"\"\\n\"\n",
    "\"How  to  speak  so  that  people  want  to  listen\"\"\\n\"\n",
    "\"My  stroke  of  insight\"\"\\n\"\n",
    "\"This  is  what  happens  when  you  reply  to  spam  email\"\"\\n\"\n",
    "\"Looks  aren't  everything.  Believe  me,  I'm  a  model.\"\"\\n\"\n",
    "\"The  puzzle  of  motivation\"\"\\n\"\n",
    "\"The  power  of  introverts\"\"\\n\"\n",
    "\"How  to  spot  a  liar\"\"\\n\"\n",
    "\"What  makes  a  good  life?  Lessons  from  the  longest  study  on  happiness\"\"\\n\"\n",
    "\"The  happy  secret  to  better  work\"\"\\n\"\n",
    "\"The  thrilling  potential  of  SixthSense  technology\") \n",
    "textFile.close()"
   ]
  },
  {
   "cell_type": "markdown",
   "id": "7b062ab6",
   "metadata": {},
   "source": [
    "Modify the program to perform the following tasks, independently.\n",
    "\n",
    "a.  Display the total number of lines in the tedTitles.txt file. \n",
    "Hint:  Use the readlines() built-in method."
   ]
  },
  {
   "cell_type": "code",
   "execution_count": null,
   "id": "b188e26b",
   "metadata": {},
   "outputs": [],
   "source": [
    "textFile  =  open(\"tedTitles.txt\",  \"r\") #Opening  a  file  for  reading \n",
    "contentsData  =  textFile.readlines() #Read  and  Store \n",
    "lineNumbers  =  0 \n",
    "for  line  in  contentsData: \n",
    "    lineNumbers  +=  1 \n",
    "print(\"In  the  'tedTitles.text'  file there  are\"  ,  lineNumbers,  \"lines.\") \n",
    "textFile.close()"
   ]
  },
  {
   "cell_type": "markdown",
   "id": "93d3124e",
   "metadata": {},
   "source": [
    "b.  Display all the titles inside the tedTitles.txt file.  Beside each title, display the total num-ber of words of that title. \n",
    "Hint:  Use the split() built-in method"
   ]
  },
  {
   "cell_type": "code",
   "execution_count": null,
   "id": "cad262ee",
   "metadata": {},
   "outputs": [],
   "source": [
    "textFile  =  open(\"tedTitles.txt\",  \"r\") #Opening  a  file  for  reading \n",
    "contentsData  =  textFile.readlines() #Read  and  Store \n",
    "lineNumbers  =  0 \n",
    "for  line  in  contentsData:\n",
    "    print(\"Title:\",  line,  end='')\n",
    "    print(\"Number  of  words:\",  len(line.split()),\"\\n\") \n",
    "    lineNumbers  +=  1 \n",
    "textFile.close()"
   ]
  },
  {
   "cell_type": "markdown",
   "id": "2e1e383a",
   "metadata": {},
   "source": [
    "c.  Display all the titles inside the tedTitles.txt file.  Beside each title, display the total num-ber of characters of that title. \n",
    "Hint:  use a simple for-loop and the len() function."
   ]
  },
  {
   "cell_type": "code",
   "execution_count": null,
   "id": "af720bf3",
   "metadata": {},
   "outputs": [],
   "source": [
    "textFile  =  open(\"tedTitles.txt\",  \"r\") #Opening  a  file  for  reading \n",
    "contentsData  =  textFile.readlines() #Read  and  Store \n",
    "lineNumbers  =  0 \n",
    "for  line  in  contentsData: \n",
    "    print(\"Title:\",  line,  end='') \n",
    "    print(\"Number  of  characters:\",  len(line)-1,\"\\n\") \n",
    "    lineNumbers  +=  1 \n",
    "textFile.close()"
   ]
  },
  {
   "cell_type": "markdown",
   "id": "af9d5553",
   "metadata": {},
   "source": [
    "d.  Display the total number of: \n",
    "question marks, single quotes, and periods within the tedTitles.txt file."
   ]
  },
  {
   "cell_type": "code",
   "execution_count": null,
   "id": "7199acd9",
   "metadata": {},
   "outputs": [],
   "source": [
    "textFile  =  open(\"tedTitles.txt\",  \"r\") #Opening  a  file  for  reading \n",
    "contentsData  =  textFile.read() #Read  and  Store \n",
    "qCounter  =  pCounter  =  sqCounter  =  0 \n",
    "for  iLetter  in  contentsData: \n",
    "    if  iLetter  ==  \"?\": \n",
    "        qCounter  +=  1 \n",
    "    if  iLetter  ==  \"'\": \n",
    "        sqCounter  +=  1 \n",
    "    if  iLetter  ==  \".\": \n",
    "        pCounter  +=  1 \n",
    "print(\"In  the  'tedTitles.text'  file:  There  are\" ,  qCounter,  \"question  marks,\",  sqCounter,  \"single  quotes,\" ,  \"and\",  pCounter,  \"periods.\") \n",
    "textFile.close()"
   ]
  },
  {
   "cell_type": "markdown",
   "id": "50af126c",
   "metadata": {},
   "source": [
    "e.  Display the total number of words that exceed ten letters and less than three letters within the \n",
    "tedTitles.txt file.\n",
    "Hint:  Use an outer loop to iterate through the lines of the text and an inner loop to iterate \n",
    "through each line’s words."
   ]
  },
  {
   "cell_type": "code",
   "execution_count": null,
   "id": "ce1345aa",
   "metadata": {},
   "outputs": [],
   "source": [
    "textFile  =  open(\"tedTitles.txt\",  \"r\") #Opening  a  file  for  reading \n",
    "contentsData  =  textFile.readlines() #Read  and  Store \n",
    "bCounter  =  sCounter  =  0 \n",
    "for  iLine  in  contentsData: \n",
    "    for  iWord  in  iLine.split(): \n",
    "        if  len(iWord)  >  10: \n",
    "            bCounter  +=  1 \n",
    "        if  len(iWord)  <  3: \n",
    "            sCounter  +=  1 \n",
    "print(\"In  the  'tedTitles.text'  file:  There  are\",  bCounter,  \"words  exceeding  10  letters,\",  \"and\" \n",
    ",  sCounter,  \"words  less  than  5  letters.\") \n",
    "textFile.close()"
   ]
  },
  {
   "cell_type": "markdown",
   "id": "3513d221",
   "metadata": {},
   "source": [
    "f.  Add the following three titles to the end of the contents of the tedTitles.txt file.  Then, \n",
    "verify your code by displaying the updated contents. \n",
    "\n",
    "How  I  held  my  breath  for  17  minutes\n",
    "\n",
    "The  art  of  misdirection\n",
    "\n",
    "The  surprising  science  of  happiness"
   ]
  },
  {
   "cell_type": "code",
   "execution_count": null,
   "id": "4559076b",
   "metadata": {},
   "outputs": [],
   "source": [
    "textFile  =  open(\"tedTitles.txt\",  \"a\") #Opening  a  file  for  appending \n",
    "newText  =  \"How  I  held  my  breath  for  17  minutes\"\"\\n\"\n",
    "\"The  art  of  misdirection\"\"\\n\"\n",
    "\"The  surprising  science  of  happiness\"\n",
    "textFile.writelines(newText) \n",
    "textFile.close()\n",
    "\n",
    "textFile  =  open(\"tedTitles.txt\",  \"r\") #Opening  a  file  for  reading \n",
    "contentsData  =  textFile.readlines() #Read  and  Store \n",
    "for  iLine  in  contentsData: \n",
    "    print(iLine,  end  ='') \n",
    "textFile.close()"
   ]
  }
 ],
 "metadata": {
  "kernelspec": {
   "display_name": "Python 3 (ipykernel)",
   "language": "python",
   "name": "python3"
  },
  "language_info": {
   "codemirror_mode": {
    "name": "ipython",
    "version": 3
   },
   "file_extension": ".py",
   "mimetype": "text/x-python",
   "name": "python",
   "nbconvert_exporter": "python",
   "pygments_lexer": "ipython3",
   "version": "3.9.7"
  }
 },
 "nbformat": 4,
 "nbformat_minor": 5
}
